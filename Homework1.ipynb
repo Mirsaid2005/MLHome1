{
 "cells": [
  {
   "cell_type": "code",
   "execution_count": null,
   "id": "85d913e2",
   "metadata": {},
   "outputs": [],
   "source": [
    "import pandas as pd"
   ]
  },
  {
   "cell_type": "code",
   "execution_count": 2,
   "id": "4c9206c0",
   "metadata": {},
   "outputs": [],
   "source": [
    "df = pd.read_csv('Titanic-Dataset.csv')"
   ]
  },
  {
   "cell_type": "code",
   "execution_count": 5,
   "id": "062d7b43",
   "metadata": {},
   "outputs": [],
   "source": [
    "df = df.dropna(subset = ['Age'])"
   ]
  },
  {
   "cell_type": "code",
   "execution_count": 6,
   "id": "a5c12906",
   "metadata": {},
   "outputs": [],
   "source": [
    "men_survived = df[(df['Sex'] == 'male') & (df['Survived'] == 1)] \n",
    "men_non_survived = df[(df['Sex'] == 'male') & (df['Survived'] == 0)]\n",
    "women_survived = df[(df['Sex'] == 'female') & (df['Survived'] == 1)]\n",
    "women_non_survived = df[(df['Sex'] == 'female') & (df['Survived'] == 0)]"
   ]
  },
  {
   "cell_type": "code",
   "execution_count": 28,
   "id": "beafbe7d",
   "metadata": {},
   "outputs": [],
   "source": [
    "means_age = []\n",
    "n = 1\n",
    "\n",
    "while n < 400:\n",
    "     n += 1\n",
    "     sample = men_survived.sample(50)['Age'].mean()\n",
    "     means_age.append(sample)"
   ]
  },
  {
   "cell_type": "code",
   "execution_count": 24,
   "id": "2f339775",
   "metadata": {},
   "outputs": [],
   "source": [
    "from scipy.stats import shapiro"
   ]
  },
  {
   "cell_type": "code",
   "execution_count": 29,
   "id": "66e5dc78",
   "metadata": {},
   "outputs": [
    {
     "data": {
      "text/plain": [
       "ShapiroResult(statistic=np.float64(0.9963450253067828), pvalue=np.float64(0.49625851481147926))"
      ]
     },
     "execution_count": 29,
     "metadata": {},
     "output_type": "execute_result"
    }
   ],
   "source": [
    "shapiro(means_age)"
   ]
  },
  {
   "cell_type": "code",
   "execution_count": 30,
   "id": "39627127",
   "metadata": {},
   "outputs": [],
   "source": [
    "means_age = []\n",
    "n = 1\n",
    "\n",
    "while n < 400:\n",
    "     n += 1\n",
    "     sample = women_survived.sample(50)['Age'].mean()\n",
    "     means_age.append(sample)"
   ]
  },
  {
   "cell_type": "code",
   "execution_count": 31,
   "id": "2882a610",
   "metadata": {},
   "outputs": [
    {
     "data": {
      "text/plain": [
       "ShapiroResult(statistic=np.float64(0.9959927652180685), pvalue=np.float64(0.40970936948767206))"
      ]
     },
     "execution_count": 31,
     "metadata": {},
     "output_type": "execute_result"
    }
   ],
   "source": [
    "shapiro(means_age)"
   ]
  },
  {
   "cell_type": "code",
   "execution_count": 32,
   "id": "701e0892",
   "metadata": {},
   "outputs": [],
   "source": [
    "means_age = []\n",
    "n = 1\n",
    "\n",
    "while n < 400:\n",
    "     n += 1\n",
    "     sample = men_non_survived.sample(50)['Age'].mean()\n",
    "     means_age.append(sample)"
   ]
  },
  {
   "cell_type": "code",
   "execution_count": 33,
   "id": "982401b4",
   "metadata": {},
   "outputs": [
    {
     "data": {
      "text/plain": [
       "ShapiroResult(statistic=np.float64(0.9974083024897704), pvalue=np.float64(0.7906065480616249))"
      ]
     },
     "execution_count": 33,
     "metadata": {},
     "output_type": "execute_result"
    }
   ],
   "source": [
    "shapiro(means_age)"
   ]
  },
  {
   "cell_type": "code",
   "execution_count": 34,
   "id": "44c411b9",
   "metadata": {},
   "outputs": [],
   "source": [
    "means_age = []\n",
    "n = 1\n",
    "\n",
    "while n < 400:\n",
    "     n += 1\n",
    "     sample = women_non_survived.sample(50)['Age'].mean()\n",
    "     means_age.append(sample)"
   ]
  },
  {
   "cell_type": "code",
   "execution_count": 35,
   "id": "9c1467a3",
   "metadata": {},
   "outputs": [
    {
     "data": {
      "text/plain": [
       "ShapiroResult(statistic=np.float64(0.9960414312059186), pvalue=np.float64(0.42104466293799103))"
      ]
     },
     "execution_count": 35,
     "metadata": {},
     "output_type": "execute_result"
    }
   ],
   "source": [
    "shapiro(means_age)"
   ]
  },
  {
   "cell_type": "code",
   "execution_count": 36,
   "id": "ecf9881f",
   "metadata": {},
   "outputs": [],
   "source": [
    "from scipy.stats import levene"
   ]
  },
  {
   "cell_type": "code",
   "execution_count": 37,
   "id": "5c4efa89",
   "metadata": {},
   "outputs": [],
   "source": [
    "men_survived = df[(df['Sex'] == 'male') & (df['Survived'] == 1)].sample(50)['Age']\n",
    "men_non_survived = df[(df['Sex'] == 'male') & (df['Survived'] == 0)].sample(50)['Age']\n",
    "women_survived = df[(df['Sex'] == 'female') & (df['Survived'] == 1)].sample(50)['Age']\n",
    "women_non_survived = df[(df['Sex'] == 'female') & (df['Survived'] == 0)].sample(50)['Age']"
   ]
  },
  {
   "cell_type": "code",
   "execution_count": 38,
   "id": "8afea4a1",
   "metadata": {},
   "outputs": [
    {
     "data": {
      "text/plain": [
       "LeveneResult(statistic=np.float64(0.4019518202417681), pvalue=np.float64(0.5275600486208876))"
      ]
     },
     "execution_count": 38,
     "metadata": {},
     "output_type": "execute_result"
    }
   ],
   "source": [
    "levene(men_survived, women_survived)"
   ]
  },
  {
   "cell_type": "code",
   "execution_count": 39,
   "id": "dc46b823",
   "metadata": {},
   "outputs": [
    {
     "data": {
      "text/plain": [
       "LeveneResult(statistic=np.float64(0.22835485682201015), pvalue=np.float64(0.6338105562959855))"
      ]
     },
     "execution_count": 39,
     "metadata": {},
     "output_type": "execute_result"
    }
   ],
   "source": [
    "levene(men_non_survived, women_non_survived)"
   ]
  },
  {
   "cell_type": "code",
   "execution_count": 43,
   "id": "d2df5d0a",
   "metadata": {},
   "outputs": [],
   "source": [
    "from scipy.stats import ttest_ind"
   ]
  },
  {
   "cell_type": "code",
   "execution_count": 44,
   "id": "465ffdd2",
   "metadata": {},
   "outputs": [
    {
     "data": {
      "text/plain": [
       "TtestResult(statistic=np.float64(-0.8898037535213688), pvalue=np.float64(0.37575038217483725), df=np.float64(98.0))"
      ]
     },
     "execution_count": 44,
     "metadata": {},
     "output_type": "execute_result"
    }
   ],
   "source": [
    "ttest_ind(men_survived, women_survived, equal_var=True)"
   ]
  },
  {
   "cell_type": "code",
   "execution_count": 45,
   "id": "7c450786",
   "metadata": {},
   "outputs": [
    {
     "data": {
      "text/plain": [
       "TtestResult(statistic=np.float64(2.8919172595762674), pvalue=np.float64(0.004717019593042376), df=np.float64(98.0))"
      ]
     },
     "execution_count": 45,
     "metadata": {},
     "output_type": "execute_result"
    }
   ],
   "source": [
    "ttest_ind(men_non_survived, women_non_survived, equal_var=True)"
   ]
  }
 ],
 "metadata": {
  "kernelspec": {
   "display_name": ".venv",
   "language": "python",
   "name": "python3"
  },
  "language_info": {
   "codemirror_mode": {
    "name": "ipython",
    "version": 3
   },
   "file_extension": ".py",
   "mimetype": "text/x-python",
   "name": "python",
   "nbconvert_exporter": "python",
   "pygments_lexer": "ipython3",
   "version": "3.13.3"
  }
 },
 "nbformat": 4,
 "nbformat_minor": 5
}
